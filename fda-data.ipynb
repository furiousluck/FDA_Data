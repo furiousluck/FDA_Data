{
 "cells": [
  {
   "cell_type": "code",
   "execution_count": 1,
   "id": "b2e6ba75",
   "metadata": {
    "_cell_guid": "b1076dfc-b9ad-4769-8c92-a6c4dae69d19",
    "_uuid": "8f2839f25d086af736a60e9eeb907d3b93b6e0e5",
    "execution": {
     "iopub.execute_input": "2022-04-16T09:14:26.485909Z",
     "iopub.status.busy": "2022-04-16T09:14:26.485183Z",
     "iopub.status.idle": "2022-04-16T09:14:26.504400Z",
     "shell.execute_reply": "2022-04-16T09:14:26.503466Z"
    },
    "papermill": {
     "duration": 0.037104,
     "end_time": "2022-04-16T09:14:26.506392",
     "exception": false,
     "start_time": "2022-04-16T09:14:26.469288",
     "status": "completed"
    },
    "tags": []
   },
   "outputs": [
    {
     "name": "stdout",
     "output_type": "stream",
     "text": [
      "/kaggle/input/adverse-food-events/CAERS_ASCII_2004_2017Q2.csv\n",
      "/kaggle/input/adverse-food-events/README.pdf\n"
     ]
    }
   ],
   "source": [
    "# This Python 3 environment comes with many helpful analytics libraries installed\n",
    "# It is defined by the kaggle/python Docker image: https://github.com/kaggle/docker-python\n",
    "# For example, here's several helpful packages to load\n",
    "\n",
    "import numpy as np # linear algebra\n",
    "import pandas as pd # data processing, CSV file I/O (e.g. pd.read_csv)\n",
    "\n",
    "# Input data files are available in the read-only \"../input/\" directory\n",
    "# For example, running this (by clicking run or pressing Shift+Enter) will list all files under the input directory\n",
    "\n",
    "import os\n",
    "for dirname, _, filenames in os.walk('/kaggle/input'):\n",
    "    for filename in filenames:\n",
    "        print(os.path.join(dirname, filename))\n",
    "\n",
    "# You can write up to 20GB to the current directory (/kaggle/working/) that gets preserved as output when you create a version using \"Save & Run All\" \n",
    "# You can also write temporary files to /kaggle/temp/, but they won't be saved outside of the current session"
   ]
  },
  {
   "cell_type": "code",
   "execution_count": 2,
   "id": "2c05eceb",
   "metadata": {
    "execution": {
     "iopub.execute_input": "2022-04-16T09:14:26.526556Z",
     "iopub.status.busy": "2022-04-16T09:14:26.526137Z",
     "iopub.status.idle": "2022-04-16T09:14:27.108936Z",
     "shell.execute_reply": "2022-04-16T09:14:27.108135Z"
    },
    "papermill": {
     "duration": 0.595419,
     "end_time": "2022-04-16T09:14:27.111395",
     "exception": false,
     "start_time": "2022-04-16T09:14:26.515976",
     "status": "completed"
    },
    "tags": []
   },
   "outputs": [
    {
     "data": {
      "text/html": [
       "<div>\n",
       "<style scoped>\n",
       "    .dataframe tbody tr th:only-of-type {\n",
       "        vertical-align: middle;\n",
       "    }\n",
       "\n",
       "    .dataframe tbody tr th {\n",
       "        vertical-align: top;\n",
       "    }\n",
       "\n",
       "    .dataframe thead th {\n",
       "        text-align: right;\n",
       "    }\n",
       "</style>\n",
       "<table border=\"1\" class=\"dataframe\">\n",
       "  <thead>\n",
       "    <tr style=\"text-align: right;\">\n",
       "      <th></th>\n",
       "      <th>RA_Report #</th>\n",
       "      <th>RA_CAERS Created Date</th>\n",
       "      <th>AEC_Event Start Date</th>\n",
       "      <th>PRI_Product Role</th>\n",
       "      <th>PRI_Reported Brand/Product Name</th>\n",
       "      <th>PRI_FDA Industry Code</th>\n",
       "      <th>PRI_FDA Industry Name</th>\n",
       "      <th>CI_Age at Adverse Event</th>\n",
       "      <th>CI_Age Unit</th>\n",
       "      <th>CI_Gender</th>\n",
       "      <th>AEC_One Row Outcomes</th>\n",
       "      <th>SYM_One Row Coded Symptoms</th>\n",
       "    </tr>\n",
       "  </thead>\n",
       "  <tbody>\n",
       "    <tr>\n",
       "      <th>0</th>\n",
       "      <td>65325</td>\n",
       "      <td>1/1/2004</td>\n",
       "      <td>8/4/2003</td>\n",
       "      <td>Suspect</td>\n",
       "      <td>MIDWEST COUNTRY FAIR CHOCOLATE FLAVORED CHIPS</td>\n",
       "      <td>3</td>\n",
       "      <td>Bakery Prod/Dough/Mix/Icing</td>\n",
       "      <td>2.0</td>\n",
       "      <td>Year(s)</td>\n",
       "      <td>Female</td>\n",
       "      <td>VISITED AN ER, VISITED A HEALTH CARE PROVIDER,...</td>\n",
       "      <td>SWELLING FACE, RASH, WHEEZING, COUGH, HOSPITAL...</td>\n",
       "    </tr>\n",
       "    <tr>\n",
       "      <th>1</th>\n",
       "      <td>65325</td>\n",
       "      <td>1/1/2004</td>\n",
       "      <td>8/4/2003</td>\n",
       "      <td>Suspect</td>\n",
       "      <td>MIDWEST COUNTRY FAIR CHOCOLATE FLAVORED CHIPS</td>\n",
       "      <td>3</td>\n",
       "      <td>Bakery Prod/Dough/Mix/Icing</td>\n",
       "      <td>2.0</td>\n",
       "      <td>Year(s)</td>\n",
       "      <td>Female</td>\n",
       "      <td>VISITED AN ER, VISITED A HEALTH CARE PROVIDER,...</td>\n",
       "      <td>SWELLING FACE, WHEEZING, COUGH, RASH, HOSPITAL...</td>\n",
       "    </tr>\n",
       "    <tr>\n",
       "      <th>2</th>\n",
       "      <td>65333</td>\n",
       "      <td>1/1/2004</td>\n",
       "      <td>NaN</td>\n",
       "      <td>Suspect</td>\n",
       "      <td>KROGER CLASSIC CREAM-DE-MINT CANDY MINT CHIP I...</td>\n",
       "      <td>13</td>\n",
       "      <td>Ice Cream Prod</td>\n",
       "      <td>NaN</td>\n",
       "      <td>Not Available</td>\n",
       "      <td>Female</td>\n",
       "      <td>VISITED AN ER</td>\n",
       "      <td>NAUSEA, DYSGEUSIA, DIARRHOEA</td>\n",
       "    </tr>\n",
       "    <tr>\n",
       "      <th>3</th>\n",
       "      <td>65335</td>\n",
       "      <td>1/1/2004</td>\n",
       "      <td>11/24/2003</td>\n",
       "      <td>Suspect</td>\n",
       "      <td>ENFAMIL LIPIL BABY FORMULA</td>\n",
       "      <td>40</td>\n",
       "      <td>Baby Food Prod</td>\n",
       "      <td>3.0</td>\n",
       "      <td>Month(s)</td>\n",
       "      <td>Not Available</td>\n",
       "      <td>NON-SERIOUS INJURIES/ ILLNESS</td>\n",
       "      <td>GASTROINTESTINAL DISORDER, VOMITING</td>\n",
       "    </tr>\n",
       "    <tr>\n",
       "      <th>4</th>\n",
       "      <td>65336</td>\n",
       "      <td>1/1/2004</td>\n",
       "      <td>NaN</td>\n",
       "      <td>Suspect</td>\n",
       "      <td>ENFIMIL LIPIL BABY FORMULA</td>\n",
       "      <td>40</td>\n",
       "      <td>Baby Food Prod</td>\n",
       "      <td>NaN</td>\n",
       "      <td>Not Available</td>\n",
       "      <td>Not Available</td>\n",
       "      <td>VISITED A HEALTH CARE PROVIDER</td>\n",
       "      <td>GASTROINTESTINAL DISORDER, PHYSICAL EXAMINATION</td>\n",
       "    </tr>\n",
       "  </tbody>\n",
       "</table>\n",
       "</div>"
      ],
      "text/plain": [
       "   RA_Report # RA_CAERS Created Date AEC_Event Start Date PRI_Product Role  \\\n",
       "0        65325              1/1/2004             8/4/2003          Suspect   \n",
       "1        65325              1/1/2004             8/4/2003          Suspect   \n",
       "2        65333              1/1/2004                  NaN          Suspect   \n",
       "3        65335              1/1/2004           11/24/2003          Suspect   \n",
       "4        65336              1/1/2004                  NaN          Suspect   \n",
       "\n",
       "                     PRI_Reported Brand/Product Name  PRI_FDA Industry Code  \\\n",
       "0      MIDWEST COUNTRY FAIR CHOCOLATE FLAVORED CHIPS                      3   \n",
       "1      MIDWEST COUNTRY FAIR CHOCOLATE FLAVORED CHIPS                      3   \n",
       "2  KROGER CLASSIC CREAM-DE-MINT CANDY MINT CHIP I...                     13   \n",
       "3                         ENFAMIL LIPIL BABY FORMULA                     40   \n",
       "4                         ENFIMIL LIPIL BABY FORMULA                     40   \n",
       "\n",
       "         PRI_FDA Industry Name  CI_Age at Adverse Event    CI_Age Unit  \\\n",
       "0  Bakery Prod/Dough/Mix/Icing                      2.0        Year(s)   \n",
       "1  Bakery Prod/Dough/Mix/Icing                      2.0        Year(s)   \n",
       "2               Ice Cream Prod                      NaN  Not Available   \n",
       "3               Baby Food Prod                      3.0       Month(s)   \n",
       "4               Baby Food Prod                      NaN  Not Available   \n",
       "\n",
       "       CI_Gender                               AEC_One Row Outcomes  \\\n",
       "0         Female  VISITED AN ER, VISITED A HEALTH CARE PROVIDER,...   \n",
       "1         Female  VISITED AN ER, VISITED A HEALTH CARE PROVIDER,...   \n",
       "2         Female                                      VISITED AN ER   \n",
       "3  Not Available                      NON-SERIOUS INJURIES/ ILLNESS   \n",
       "4  Not Available                     VISITED A HEALTH CARE PROVIDER   \n",
       "\n",
       "                          SYM_One Row Coded Symptoms  \n",
       "0  SWELLING FACE, RASH, WHEEZING, COUGH, HOSPITAL...  \n",
       "1  SWELLING FACE, WHEEZING, COUGH, RASH, HOSPITAL...  \n",
       "2                       NAUSEA, DYSGEUSIA, DIARRHOEA  \n",
       "3                GASTROINTESTINAL DISORDER, VOMITING  \n",
       "4    GASTROINTESTINAL DISORDER, PHYSICAL EXAMINATION  "
      ]
     },
     "execution_count": 2,
     "metadata": {},
     "output_type": "execute_result"
    }
   ],
   "source": [
    "data = pd.read_csv('/kaggle/input/adverse-food-events/CAERS_ASCII_2004_2017Q2.csv')\n",
    "data.head()"
   ]
  },
  {
   "cell_type": "code",
   "execution_count": 3,
   "id": "1d98d9d2",
   "metadata": {
    "execution": {
     "iopub.execute_input": "2022-04-16T09:14:27.131118Z",
     "iopub.status.busy": "2022-04-16T09:14:27.130837Z",
     "iopub.status.idle": "2022-04-16T09:14:27.137916Z",
     "shell.execute_reply": "2022-04-16T09:14:27.137132Z"
    },
    "papermill": {
     "duration": 0.019377,
     "end_time": "2022-04-16T09:14:27.139851",
     "exception": false,
     "start_time": "2022-04-16T09:14:27.120474",
     "status": "completed"
    },
    "tags": []
   },
   "outputs": [
    {
     "data": {
      "text/plain": [
       "RA_Report #                          int64\n",
       "RA_CAERS Created Date               object\n",
       "AEC_Event Start Date                object\n",
       "PRI_Product Role                    object\n",
       "PRI_Reported Brand/Product Name     object\n",
       "PRI_FDA Industry Code                int64\n",
       "PRI_FDA Industry Name               object\n",
       "CI_Age at Adverse Event            float64\n",
       "CI_Age Unit                         object\n",
       "CI_Gender                           object\n",
       "AEC_One Row Outcomes                object\n",
       "SYM_One Row Coded Symptoms          object\n",
       "dtype: object"
      ]
     },
     "execution_count": 3,
     "metadata": {},
     "output_type": "execute_result"
    }
   ],
   "source": [
    "data.dtypes"
   ]
  },
  {
   "cell_type": "code",
   "execution_count": 4,
   "id": "61ac1f26",
   "metadata": {
    "execution": {
     "iopub.execute_input": "2022-04-16T09:14:27.160559Z",
     "iopub.status.busy": "2022-04-16T09:14:27.160309Z",
     "iopub.status.idle": "2022-04-16T09:14:27.199579Z",
     "shell.execute_reply": "2022-04-16T09:14:27.198793Z"
    },
    "papermill": {
     "duration": 0.051968,
     "end_time": "2022-04-16T09:14:27.201570",
     "exception": false,
     "start_time": "2022-04-16T09:14:27.149602",
     "status": "completed"
    },
    "tags": []
   },
   "outputs": [
    {
     "data": {
      "text/html": [
       "<div>\n",
       "<style scoped>\n",
       "    .dataframe tbody tr th:only-of-type {\n",
       "        vertical-align: middle;\n",
       "    }\n",
       "\n",
       "    .dataframe tbody tr th {\n",
       "        vertical-align: top;\n",
       "    }\n",
       "\n",
       "    .dataframe thead th {\n",
       "        text-align: right;\n",
       "    }\n",
       "</style>\n",
       "<table border=\"1\" class=\"dataframe\">\n",
       "  <thead>\n",
       "    <tr style=\"text-align: right;\">\n",
       "      <th></th>\n",
       "      <th>RA_Report #</th>\n",
       "      <th>PRI_FDA Industry Code</th>\n",
       "      <th>CI_Age at Adverse Event</th>\n",
       "    </tr>\n",
       "  </thead>\n",
       "  <tbody>\n",
       "    <tr>\n",
       "      <th>count</th>\n",
       "      <td>90786.000000</td>\n",
       "      <td>90786.000000</td>\n",
       "      <td>52926.000000</td>\n",
       "    </tr>\n",
       "    <tr>\n",
       "      <th>mean</th>\n",
       "      <td>156577.560538</td>\n",
       "      <td>43.058082</td>\n",
       "      <td>50.755319</td>\n",
       "    </tr>\n",
       "    <tr>\n",
       "      <th>std</th>\n",
       "      <td>40382.318513</td>\n",
       "      <td>16.553049</td>\n",
       "      <td>23.249385</td>\n",
       "    </tr>\n",
       "    <tr>\n",
       "      <th>min</th>\n",
       "      <td>65325.000000</td>\n",
       "      <td>2.000000</td>\n",
       "      <td>0.000000</td>\n",
       "    </tr>\n",
       "    <tr>\n",
       "      <th>25%</th>\n",
       "      <td>125985.250000</td>\n",
       "      <td>29.000000</td>\n",
       "      <td>35.000000</td>\n",
       "    </tr>\n",
       "    <tr>\n",
       "      <th>50%</th>\n",
       "      <td>168433.000000</td>\n",
       "      <td>54.000000</td>\n",
       "      <td>53.000000</td>\n",
       "    </tr>\n",
       "    <tr>\n",
       "      <th>75%</th>\n",
       "      <td>190410.750000</td>\n",
       "      <td>54.000000</td>\n",
       "      <td>68.000000</td>\n",
       "    </tr>\n",
       "    <tr>\n",
       "      <th>max</th>\n",
       "      <td>214610.000000</td>\n",
       "      <td>54.000000</td>\n",
       "      <td>736.000000</td>\n",
       "    </tr>\n",
       "  </tbody>\n",
       "</table>\n",
       "</div>"
      ],
      "text/plain": [
       "         RA_Report #  PRI_FDA Industry Code  CI_Age at Adverse Event\n",
       "count   90786.000000           90786.000000             52926.000000\n",
       "mean   156577.560538              43.058082                50.755319\n",
       "std     40382.318513              16.553049                23.249385\n",
       "min     65325.000000               2.000000                 0.000000\n",
       "25%    125985.250000              29.000000                35.000000\n",
       "50%    168433.000000              54.000000                53.000000\n",
       "75%    190410.750000              54.000000                68.000000\n",
       "max    214610.000000              54.000000               736.000000"
      ]
     },
     "execution_count": 4,
     "metadata": {},
     "output_type": "execute_result"
    }
   ],
   "source": [
    "data.describe()"
   ]
  },
  {
   "cell_type": "code",
   "execution_count": 5,
   "id": "ab273abe",
   "metadata": {
    "execution": {
     "iopub.execute_input": "2022-04-16T09:14:27.223362Z",
     "iopub.status.busy": "2022-04-16T09:14:27.223080Z",
     "iopub.status.idle": "2022-04-16T09:14:27.239070Z",
     "shell.execute_reply": "2022-04-16T09:14:27.238153Z"
    },
    "papermill": {
     "duration": 0.029171,
     "end_time": "2022-04-16T09:14:27.240923",
     "exception": false,
     "start_time": "2022-04-16T09:14:27.211752",
     "status": "completed"
    },
    "tags": []
   },
   "outputs": [
    {
     "data": {
      "text/plain": [
       "count      90786\n",
       "unique         5\n",
       "top       Female\n",
       "freq       58924\n",
       "Name: CI_Gender, dtype: object"
      ]
     },
     "execution_count": 5,
     "metadata": {},
     "output_type": "execute_result"
    }
   ],
   "source": [
    "data.CI_Gender.describe()"
   ]
  },
  {
   "cell_type": "code",
   "execution_count": 6,
   "id": "f8345f24",
   "metadata": {
    "execution": {
     "iopub.execute_input": "2022-04-16T09:14:27.263593Z",
     "iopub.status.busy": "2022-04-16T09:14:27.263018Z",
     "iopub.status.idle": "2022-04-16T09:14:27.273860Z",
     "shell.execute_reply": "2022-04-16T09:14:27.273110Z"
    },
    "papermill": {
     "duration": 0.024398,
     "end_time": "2022-04-16T09:14:27.275650",
     "exception": false,
     "start_time": "2022-04-16T09:14:27.251252",
     "status": "completed"
    },
    "tags": []
   },
   "outputs": [
    {
     "data": {
      "text/plain": [
       "Female           58924\n",
       "Male             26943\n",
       "Not Available     4916\n",
       "Unknown              2\n",
       "Not Reported         1\n",
       "Name: CI_Gender, dtype: int64"
      ]
     },
     "execution_count": 6,
     "metadata": {},
     "output_type": "execute_result"
    }
   ],
   "source": [
    "data.CI_Gender.value_counts()"
   ]
  },
  {
   "cell_type": "code",
   "execution_count": 7,
   "id": "b1e47a2d",
   "metadata": {
    "execution": {
     "iopub.execute_input": "2022-04-16T09:14:27.298761Z",
     "iopub.status.busy": "2022-04-16T09:14:27.298267Z",
     "iopub.status.idle": "2022-04-16T09:14:27.302834Z",
     "shell.execute_reply": "2022-04-16T09:14:27.302314Z"
    },
    "papermill": {
     "duration": 0.017996,
     "end_time": "2022-04-16T09:14:27.304392",
     "exception": false,
     "start_time": "2022-04-16T09:14:27.286396",
     "status": "completed"
    },
    "tags": []
   },
   "outputs": [
    {
     "data": {
      "text/plain": [
       "Index(['RA_Report #', 'RA_CAERS Created Date', 'AEC_Event Start Date',\n",
       "       'PRI_Product Role', 'PRI_Reported Brand/Product Name',\n",
       "       'PRI_FDA Industry Code', 'PRI_FDA Industry Name',\n",
       "       'CI_Age at Adverse Event', 'CI_Age Unit', 'CI_Gender',\n",
       "       'AEC_One Row Outcomes', 'SYM_One Row Coded Symptoms'],\n",
       "      dtype='object')"
      ]
     },
     "execution_count": 7,
     "metadata": {},
     "output_type": "execute_result"
    }
   ],
   "source": [
    "data.columns"
   ]
  },
  {
   "cell_type": "code",
   "execution_count": 8,
   "id": "8b2662f3",
   "metadata": {
    "execution": {
     "iopub.execute_input": "2022-04-16T09:14:27.327823Z",
     "iopub.status.busy": "2022-04-16T09:14:27.327311Z",
     "iopub.status.idle": "2022-04-16T09:14:27.358952Z",
     "shell.execute_reply": "2022-04-16T09:14:27.358304Z"
    },
    "papermill": {
     "duration": 0.045672,
     "end_time": "2022-04-16T09:14:27.360859",
     "exception": false,
     "start_time": "2022-04-16T09:14:27.315187",
     "status": "completed"
    },
    "tags": []
   },
   "outputs": [],
   "source": [
    "product_counts = data['PRI_Reported Brand/Product Name'].value_counts()\n",
    "product_counts = product_counts[np.where(product_counts>200)[0]]"
   ]
  },
  {
   "cell_type": "code",
   "execution_count": 9,
   "id": "119f758e",
   "metadata": {
    "execution": {
     "iopub.execute_input": "2022-04-16T09:14:27.383958Z",
     "iopub.status.busy": "2022-04-16T09:14:27.383494Z",
     "iopub.status.idle": "2022-04-16T09:14:27.388592Z",
     "shell.execute_reply": "2022-04-16T09:14:27.388082Z"
    },
    "papermill": {
     "duration": 0.018514,
     "end_time": "2022-04-16T09:14:27.390108",
     "exception": false,
     "start_time": "2022-04-16T09:14:27.371594",
     "status": "completed"
    },
    "tags": []
   },
   "outputs": [
    {
     "data": {
      "text/plain": [
       "REDACTED                                                            6081\n",
       "VITAMIN D                                                            717\n",
       "MULTIVITAMIN                                                         667\n",
       "SUPER BETA PROSTATE                                                  648\n",
       "FISH OIL                                                             622\n",
       "CENTRUM SILVER WOMEN'S 50+ (MULTIMINERALS, MULTIVITAMINS) TABLET     615\n",
       "CALCIUM                                                              592\n",
       "VITAMIN C                                                            479\n",
       "WEN CLEANSING CONDITIONER                                            372\n",
       "PETER PAN CREAMY PEANUT BUTTER                                       332\n",
       "HYDROXYCUT REGULAR RAPID RELEASE CAPLETS                             327\n",
       "RAW OYSTERS                                                          305\n",
       "MAGNESIUM                                                            303\n",
       "VITAMIN D3                                                           290\n",
       "VITAMIN E                                                            242\n",
       "BIOTIN                                                               224\n",
       "VITAMIN B12                                                          223\n",
       "CENTRUM SILVER (MULTIMINERALS, MULTIVITAMINS) TABLET                 222\n",
       "Name: PRI_Reported Brand/Product Name, dtype: int64"
      ]
     },
     "execution_count": 9,
     "metadata": {},
     "output_type": "execute_result"
    }
   ],
   "source": [
    "product_counts"
   ]
  },
  {
   "cell_type": "code",
   "execution_count": null,
   "id": "521184d5",
   "metadata": {
    "papermill": {
     "duration": 0.010764,
     "end_time": "2022-04-16T09:14:27.411604",
     "exception": false,
     "start_time": "2022-04-16T09:14:27.400840",
     "status": "completed"
    },
    "tags": []
   },
   "outputs": [],
   "source": []
  }
 ],
 "metadata": {
  "kernelspec": {
   "display_name": "Python 3",
   "language": "python",
   "name": "python3"
  },
  "language_info": {
   "codemirror_mode": {
    "name": "ipython",
    "version": 3
   },
   "file_extension": ".py",
   "mimetype": "text/x-python",
   "name": "python",
   "nbconvert_exporter": "python",
   "pygments_lexer": "ipython3",
   "version": "3.7.12"
  },
  "papermill": {
   "default_parameters": {},
   "duration": 10.040906,
   "end_time": "2022-04-16T09:14:28.043514",
   "environment_variables": {},
   "exception": null,
   "input_path": "__notebook__.ipynb",
   "output_path": "__notebook__.ipynb",
   "parameters": {},
   "start_time": "2022-04-16T09:14:18.002608",
   "version": "2.3.4"
  }
 },
 "nbformat": 4,
 "nbformat_minor": 5
}
